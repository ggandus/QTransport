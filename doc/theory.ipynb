{
 "cells": [
  {
   "cell_type": "markdown",
   "metadata": {},
   "source": [
    "## REFERENCE "
   ]
  },
  {
   "cell_type": "markdown",
   "metadata": {},
   "source": [
    "https://aip.scitation.org/doi/pdf/10.1063/1.4840655"
   ]
  },
  {
   "cell_type": "code",
   "execution_count": 1,
   "metadata": {},
   "outputs": [],
   "source": [
    "from sympy import MatrixSymbol, Matrix, sympify, latex, Symbol\n",
    "from sympy.matrices import Matrix, eye, zeros, ones, diag, ZeroMatrix, BlockMatrix, block_collapse, Identity\n",
    "#from sympy.interactive.printing import init_printing\n",
    "#init_printing(use_unicode=False, wrap_line=False)"
   ]
  },
  {
   "cell_type": "markdown",
   "metadata": {},
   "source": [
    "# 2 $\\times$ 2"
   ]
  },
  {
   "cell_type": "markdown",
   "metadata": {},
   "source": [
    "### right"
   ]
  },
  {
   "cell_type": "code",
   "execution_count": 4,
   "metadata": {},
   "outputs": [],
   "source": [
    "U_DL = Symbol('U_DL')\n",
    "U_DD = Symbol('U_DD')\n",
    "U_DR = Symbol('U_DR')\n",
    "UT = Matrix([[1,0,0],[0,1,U_DR],[0,0,1]])"
   ]
  },
  {
   "cell_type": "code",
   "execution_count": 5,
   "metadata": {},
   "outputs": [],
   "source": [
    "U_LD = Symbol('U_LD')\n",
    "U_DD = Symbol('U_DD^T')\n",
    "U_RD = Symbol('U_RD')\n",
    "U = Matrix([[1,0,0],[0,1,0],[0,U_RD,1]])"
   ]
  },
  {
   "cell_type": "code",
   "execution_count": 6,
   "metadata": {},
   "outputs": [],
   "source": [
    "S_L = Symbol('S_L')\n",
    "S_LD = Symbol('S_{LD}')\n",
    "S_DL = Symbol('S_{DL}')\n",
    "S_D = Symbol('S_D')\n",
    "S_DR = Symbol('S_{DR}')\n",
    "S_RD = Symbol('S_{RD}')\n",
    "S_R = Symbol('S_R')\n",
    "S = Matrix([[S_L,S_LD,0],[S_DL,S_D,S_DR],[0,S_RD,S_R]])"
   ]
  },
  {
   "cell_type": "code",
   "execution_count": 7,
   "metadata": {},
   "outputs": [
    {
     "data": {
      "text/latex": [
       "$\\displaystyle \\left[\\begin{matrix}S_{L} & S_{LD} & 0\\\\S_{DL} & S_{D} + S_{RD} U_{DR} + U_{RD} \\left(S_{R} U_{DR} + S_{DR}\\right) & S_{R} U_{DR} + S_{DR}\\\\0 & S_{R} U_{RD} + S_{RD} & S_{R}\\end{matrix}\\right]$"
      ],
      "text/plain": [
       "Matrix([\n",
       "[   S_L,                                       S_{LD},                 0],\n",
       "[S_{DL}, S_D + S_{RD}*U_DR + U_RD*(S_R*U_DR + S_{DR}), S_R*U_DR + S_{DR}],\n",
       "[     0,                            S_R*U_RD + S_{RD},               S_R]])"
      ]
     },
     "execution_count": 7,
     "metadata": {},
     "output_type": "execute_result"
    }
   ],
   "source": [
    "UT*S*U"
   ]
  },
  {
   "cell_type": "markdown",
   "metadata": {},
   "source": [
    "### left"
   ]
  },
  {
   "cell_type": "code",
   "execution_count": 8,
   "metadata": {},
   "outputs": [],
   "source": [
    "U_DL = Symbol('U_DL')\n",
    "U_DD = Symbol('U_DD')\n",
    "U_DR = Symbol('U_DR')\n",
    "UT = Matrix([[1,0,0],[U_DL,1,0],[0,0,1]])"
   ]
  },
  {
   "cell_type": "code",
   "execution_count": 9,
   "metadata": {},
   "outputs": [],
   "source": [
    "U_LD = Symbol('U_LD')\n",
    "U_DD = Symbol('U_DD^T')\n",
    "U_RD = Symbol('U_RD')\n",
    "U = Matrix([[1,U_LD,0],[0,1,0],[0,0,1]])"
   ]
  },
  {
   "cell_type": "code",
   "execution_count": 10,
   "metadata": {},
   "outputs": [],
   "source": [
    "S_L = Symbol('S_L')\n",
    "S_LD = Symbol('S_{LD}')\n",
    "S_DL = Symbol('S_{DL}')\n",
    "S_D = Symbol('S_D')\n",
    "S_DR = Symbol('S_{DR}')\n",
    "S_RD = Symbol('S_{RD}')\n",
    "S_R = Symbol('S_R')\n",
    "S = Matrix([[S_L,S_LD,0],[S_DL,S_D,S_DR],[0,S_RD,S_R]])"
   ]
  },
  {
   "cell_type": "code",
   "execution_count": 11,
   "metadata": {},
   "outputs": [
    {
     "data": {
      "text/latex": [
       "$\\displaystyle \\left[\\begin{matrix}S_{L} & S_{L} U_{LD} + S_{LD} & 0\\\\S_{L} U_{DL} + S_{DL} & S_{D} + S_{LD} U_{DL} + U_{LD} \\left(S_{L} U_{DL} + S_{DL}\\right) & S_{DR}\\\\0 & S_{RD} & S_{R}\\end{matrix}\\right]$"
      ],
      "text/plain": [
       "Matrix([\n",
       "[              S_L,                            S_L*U_LD + S_{LD},      0],\n",
       "[S_L*U_DL + S_{DL}, S_D + S_{LD}*U_DL + U_LD*(S_L*U_DL + S_{DL}), S_{DR}],\n",
       "[                0,                                       S_{RD},    S_R]])"
      ]
     },
     "execution_count": 11,
     "metadata": {},
     "output_type": "execute_result"
    }
   ],
   "source": [
    "UT*S*U"
   ]
  },
  {
   "cell_type": "markdown",
   "metadata": {},
   "source": [
    "# 3 $\\times$ 3"
   ]
  },
  {
   "cell_type": "code",
   "execution_count": 36,
   "metadata": {},
   "outputs": [],
   "source": [
    "U_DL = Symbol('U_DL')\n",
    "U_DD = Symbol('U_DD')\n",
    "U_DR = Symbol('U_DR')\n",
    "UT = Matrix([[1,0,0],[U_DL,1,U_DR],[0,0,1]])"
   ]
  },
  {
   "cell_type": "code",
   "execution_count": 37,
   "metadata": {},
   "outputs": [],
   "source": [
    "U_LD = Symbol('U_LD')\n",
    "U_DD = Symbol('U_DD^T')\n",
    "U_RD = Symbol('U_RD')\n",
    "U = Matrix([[1,U_LD,0],[0,1,0],[0,U_RD,1]])"
   ]
  },
  {
   "cell_type": "code",
   "execution_count": 38,
   "metadata": {},
   "outputs": [],
   "source": [
    "S_L = Symbol('S_L')\n",
    "S_LD = Symbol('S_{LD}')\n",
    "S_DL = Symbol('S_{DL}')\n",
    "S_D = Symbol('S_D')\n",
    "S_DR = Symbol('S_{DR}')\n",
    "S_RD = Symbol('S_{RD}')\n",
    "S_R = Symbol('S_R')\n",
    "S = Matrix([[S_L,S_LD,0],[S_DL,S_D,S_DR],[0,S_RD,S_R]])"
   ]
  },
  {
   "cell_type": "code",
   "execution_count": 41,
   "metadata": {},
   "outputs": [
    {
     "data": {
      "text/latex": [
       "$\\displaystyle \\left[\\begin{matrix}1 & 0 & 0\\\\U_{DL} & 1 & U_{DR}\\\\0 & 0 & 1\\end{matrix}\\right]$"
      ],
      "text/plain": [
       "Matrix([\n",
       "[   1, 0,    0],\n",
       "[U_DL, 1, U_DR],\n",
       "[   0, 0,    1]])"
      ]
     },
     "execution_count": 41,
     "metadata": {},
     "output_type": "execute_result"
    }
   ],
   "source": [
    "UT"
   ]
  },
  {
   "cell_type": "code",
   "execution_count": 42,
   "metadata": {},
   "outputs": [
    {
     "data": {
      "text/latex": [
       "$\\displaystyle \\left[\\begin{matrix}1 & U_{LD} & 0\\\\0 & 1 & 0\\\\0 & U_{RD} & 1\\end{matrix}\\right]$"
      ],
      "text/plain": [
       "Matrix([\n",
       "[1, U_LD, 0],\n",
       "[0,    1, 0],\n",
       "[0, U_RD, 1]])"
      ]
     },
     "execution_count": 42,
     "metadata": {},
     "output_type": "execute_result"
    }
   ],
   "source": [
    "U"
   ]
  },
  {
   "cell_type": "code",
   "execution_count": 43,
   "metadata": {},
   "outputs": [
    {
     "data": {
      "text/latex": [
       "$\\displaystyle \\left[\\begin{matrix}S_{L} & S_{LD} & 0\\\\S_{DL} & S_{D} & S_{DR}\\\\0 & S_{RD} & S_{R}\\end{matrix}\\right]$"
      ],
      "text/plain": [
       "Matrix([\n",
       "[   S_L, S_{LD},      0],\n",
       "[S_{DL},    S_D, S_{DR}],\n",
       "[     0, S_{RD},    S_R]])"
      ]
     },
     "execution_count": 43,
     "metadata": {},
     "output_type": "execute_result"
    }
   ],
   "source": [
    "S"
   ]
  },
  {
   "cell_type": "code",
   "execution_count": 46,
   "metadata": {},
   "outputs": [
    {
     "data": {
      "text/latex": [
       "$\\displaystyle \\left[\\begin{matrix}S_{L} & S_{L} U_{LD} + S_{LD} & 0\\\\S_{L} U_{DL} + S_{DL} & S_{D} + S_{LD} U_{DL} + S_{RD} U_{DR} + U_{LD} \\left(S_{L} U_{DL} + S_{DL}\\right) + U_{RD} \\left(S_{R} U_{DR} + S_{DR}\\right) & S_{R} U_{DR} + S_{DR}\\\\0 & S_{R} U_{RD} + S_{RD} & S_{R}\\end{matrix}\\right]$"
      ],
      "text/plain": [
       "Matrix([\n",
       "[              S_L,                                                                     S_L*U_LD + S_{LD},                 0],\n",
       "[S_L*U_DL + S_{DL}, S_D + S_{LD}*U_DL + S_{RD}*U_DR + U_LD*(S_L*U_DL + S_{DL}) + U_RD*(S_R*U_DR + S_{DR}), S_R*U_DR + S_{DR}],\n",
       "[                0,                                                                     S_R*U_RD + S_{RD},               S_R]])"
      ]
     },
     "execution_count": 46,
     "metadata": {},
     "output_type": "execute_result"
    }
   ],
   "source": [
    "UT*S*U"
   ]
  },
  {
   "cell_type": "markdown",
   "metadata": {},
   "source": [
    "$$ U_{DL} S_L + S_{DL} = 0 $$\n",
    "$$ U_{DL} S_L = -S_{DL} $$\n",
    "\n",
    "<br>\n",
    "\n",
    "$$ U_{DL}  = -S_{DL} S_L^{-1} $$\n",
    "$$ U_{DR}  = -S_{DR} S_R^{-1} $$"
   ]
  },
  {
   "cell_type": "code",
   "execution_count": 18,
   "metadata": {},
   "outputs": [],
   "source": [
    "U_DL = Symbol('-S_{DL}S_L^{-1}')\n",
    "U_DR = Symbol('-S_{DR}S_R^{-1}')\n",
    "UT = Matrix([[1,0,0],[U_DL,1,U_DR],[0,0,1]])"
   ]
  },
  {
   "cell_type": "code",
   "execution_count": 19,
   "metadata": {},
   "outputs": [],
   "source": [
    "U_LD = Symbol('-S_L^{-T}S_{LD}')\n",
    "U_RD = Symbol('-S_R^{-T}S_{RD}')\n",
    "U = Matrix([[1,U_LD,0],[0,1,0],[0,U_RD,1]])"
   ]
  },
  {
   "cell_type": "code",
   "execution_count": 20,
   "metadata": {},
   "outputs": [
    {
     "data": {
      "text/latex": [
       "$\\displaystyle \\left[\\begin{matrix}S_{L} & -S_L^{-T}S_{LD} S_{L} + S_{LD} & 0\\\\-S_{DL}S_L^{-1} S_{L} + S_{DL} & -S_L^{-T}S_{LD} \\left(-S_{DL}S_L^{-1} S_{L} + S_{DL}\\right) + -S_R^{-T}S_{RD} \\left(-S_{DR}S_R^{-1} S_{R} + S_{DR}\\right) + -S_{DL}S_L^{-1} S_{LD} + -S_{DR}S_R^{-1} S_{RD} + S_{D} & -S_{DR}S_R^{-1} S_{R} + S_{DR}\\\\0 & -S_R^{-T}S_{RD} S_{R} + S_{RD} & S_{R}\\end{matrix}\\right]$"
      ],
      "text/plain": [
       "Matrix([\n",
       "[                         S_L,                                                                                                                         -S_L^{-T}S_{LD}*S_L + S_{LD},                            0],\n",
       "[-S_{DL}S_L^{-1}*S_L + S_{DL}, -S_L^{-T}S_{LD}*(-S_{DL}S_L^{-1}*S_L + S_{DL}) - S_R^{-T}S_{RD}*(-S_{DR}S_R^{-1}*S_R + S_{DR}) - S_{DL}S_L^{-1}*S_{LD} - S_{DR}S_R^{-1}*S_{RD} + S_D, -S_{DR}S_R^{-1}*S_R + S_{DR}],\n",
       "[                           0,                                                                                                                         -S_R^{-T}S_{RD}*S_R + S_{RD},                          S_R]])"
      ]
     },
     "execution_count": 20,
     "metadata": {},
     "output_type": "execute_result"
    }
   ],
   "source": [
    "UT*S*U"
   ]
  },
  {
   "cell_type": "code",
   "execution_count": 21,
   "metadata": {},
   "outputs": [],
   "source": [
    "H_L = Symbol('H_L')\n",
    "H_LD = Symbol('H_{LD}')\n",
    "H_DL = Symbol('H_{DL}')\n",
    "H_D = Symbol('H_D')\n",
    "H_DR = Symbol('H_{DR}')\n",
    "H_RD = Symbol('H_{RD}')\n",
    "H_R = Symbol('H_R')\n",
    "H = Matrix([[H_L,H_LD,0],[H_DL,H_D,H_DR],[0,H_RD,H_R]])"
   ]
  },
  {
   "cell_type": "code",
   "execution_count": 22,
   "metadata": {},
   "outputs": [
    {
     "data": {
      "text/latex": [
       "$\\displaystyle \\left[\\begin{matrix}H_{L} & -S_L^{-T}S_{LD} H_{L} + H_{LD} & 0\\\\-S_{DL}S_L^{-1} H_{L} + H_{DL} & -S_L^{-T}S_{LD} \\left(-S_{DL}S_L^{-1} H_{L} + H_{DL}\\right) + -S_R^{-T}S_{RD} \\left(-S_{DR}S_R^{-1} H_{R} + H_{DR}\\right) + -S_{DL}S_L^{-1} H_{LD} + -S_{DR}S_R^{-1} H_{RD} + H_{D} & -S_{DR}S_R^{-1} H_{R} + H_{DR}\\\\0 & -S_R^{-T}S_{RD} H_{R} + H_{RD} & H_{R}\\end{matrix}\\right]$"
      ],
      "text/plain": [
       "Matrix([\n",
       "[                         H_L,                                                                                                                         -S_L^{-T}S_{LD}*H_L + H_{LD},                            0],\n",
       "[-S_{DL}S_L^{-1}*H_L + H_{DL}, -S_L^{-T}S_{LD}*(-S_{DL}S_L^{-1}*H_L + H_{DL}) - S_R^{-T}S_{RD}*(-S_{DR}S_R^{-1}*H_R + H_{DR}) - S_{DL}S_L^{-1}*H_{LD} - S_{DR}S_R^{-1}*H_{RD} + H_D, -S_{DR}S_R^{-1}*H_R + H_{DR}],\n",
       "[                           0,                                                                                                                         -S_R^{-T}S_{RD}*H_R + H_{RD},                          H_R]])"
      ]
     },
     "execution_count": 22,
     "metadata": {},
     "output_type": "execute_result"
    }
   ],
   "source": [
    "UT*H*U"
   ]
  },
  {
   "cell_type": "markdown",
   "metadata": {},
   "source": [
    "#### The inverse of symmetric matrix is also symmetric"
   ]
  },
  {
   "cell_type": "code",
   "execution_count": 23,
   "metadata": {},
   "outputs": [
    {
     "data": {
      "text/plain": [
       "True"
      ]
     },
     "execution_count": 23,
     "metadata": {},
     "output_type": "execute_result"
    }
   ],
   "source": [
    "N = 8\n",
    "b = np.random.randint(-20,20,size=(N,N))\n",
    "b_symm = (b + b.T)/2\n",
    "np.allclose(np.linalg.inv(b_symm),np.linalg.inv(b_symm).T)"
   ]
  },
  {
   "cell_type": "markdown",
   "metadata": {},
   "source": [
    "# 4 $\\times$ 4"
   ]
  },
  {
   "cell_type": "code",
   "execution_count": 24,
   "metadata": {},
   "outputs": [],
   "source": [
    "U_DL = Symbol('U_DL')\n",
    "U_DD = Symbol('U_DD')\n",
    "U_DR = Symbol('U_DR')\n",
    "U_DM = Symbol('U_DM')\n",
    "UT = Matrix([[1,0,0,0],[U_DL,1,U_DR,U_DM],[0,0,1,0],[0,0,0,1]])"
   ]
  },
  {
   "cell_type": "code",
   "execution_count": 25,
   "metadata": {},
   "outputs": [],
   "source": [
    "U_LD = Symbol('U_LD')\n",
    "U_DD = Symbol('U_DD^T')\n",
    "U_RD = Symbol('U_RD')\n",
    "U_MD = Symbol('U_MD')\n",
    "U = Matrix([[1,U_LD,0,0],[0,1,0,0],[0,U_RD,1,0],[0,U_MD,0,1]])"
   ]
  },
  {
   "cell_type": "code",
   "execution_count": 26,
   "metadata": {},
   "outputs": [
    {
     "data": {
      "text/latex": [
       "$\\displaystyle \\left[\\begin{matrix}1 & U_{DL} & 0 & 0\\\\0 & 1 & 0 & 0\\\\0 & U_{DR} & 1 & 0\\\\0 & U_{DM} & 0 & 1\\end{matrix}\\right]$"
      ],
      "text/plain": [
       "Matrix([\n",
       "[1, U_DL, 0, 0],\n",
       "[0,    1, 0, 0],\n",
       "[0, U_DR, 1, 0],\n",
       "[0, U_DM, 0, 1]])"
      ]
     },
     "execution_count": 26,
     "metadata": {},
     "output_type": "execute_result"
    }
   ],
   "source": [
    "UT.T"
   ]
  },
  {
   "cell_type": "code",
   "execution_count": 27,
   "metadata": {},
   "outputs": [],
   "source": [
    "S_L = Symbol('S_L')\n",
    "S_LD = Symbol('S_{LD}')\n",
    "S_DL = Symbol('S_{DL}')\n",
    "S_D = Symbol('S_D')\n",
    "S_DR = Symbol('S_{DR}')\n",
    "S_RD = Symbol('S_{RD}')\n",
    "S_R = Symbol('S_R')\n",
    "S_M = Symbol('S_M')\n",
    "S_DM = Symbol('S_DM')\n",
    "S_MD = Symbol('S_MD')\n",
    "S = Matrix([[S_L,S_LD,0,0],[S_DL,S_D,S_DR,S_DM],[0,S_RD,S_R,0],[0,S_MD,0,S_M]])"
   ]
  },
  {
   "cell_type": "code",
   "execution_count": 28,
   "metadata": {},
   "outputs": [
    {
     "data": {
      "text/latex": [
       "$\\displaystyle \\left[\\begin{matrix}1 & 0 & 0 & 0\\\\U_{DL} & 1 & U_{DR} & U_{DM}\\\\0 & 0 & 1 & 0\\\\0 & 0 & 0 & 1\\end{matrix}\\right]$"
      ],
      "text/plain": [
       "Matrix([\n",
       "[   1, 0,    0,    0],\n",
       "[U_DL, 1, U_DR, U_DM],\n",
       "[   0, 0,    1,    0],\n",
       "[   0, 0,    0,    1]])"
      ]
     },
     "execution_count": 28,
     "metadata": {},
     "output_type": "execute_result"
    }
   ],
   "source": [
    "UT"
   ]
  },
  {
   "cell_type": "code",
   "execution_count": 29,
   "metadata": {},
   "outputs": [
    {
     "data": {
      "text/latex": [
       "$\\displaystyle \\left[\\begin{matrix}S_{L} & S_{LD} & 0 & 0\\\\S_{DL} & S_{D} & S_{DR} & S_{DM}\\\\0 & S_{RD} & S_{R} & 0\\\\0 & S_{MD} & 0 & S_{M}\\end{matrix}\\right]$"
      ],
      "text/plain": [
       "Matrix([\n",
       "[   S_L, S_{LD},      0,    0],\n",
       "[S_{DL},    S_D, S_{DR}, S_DM],\n",
       "[     0, S_{RD},    S_R,    0],\n",
       "[     0,   S_MD,      0,  S_M]])"
      ]
     },
     "execution_count": 29,
     "metadata": {},
     "output_type": "execute_result"
    }
   ],
   "source": [
    "S"
   ]
  },
  {
   "cell_type": "code",
   "execution_count": 30,
   "metadata": {},
   "outputs": [
    {
     "data": {
      "text/latex": [
       "$\\displaystyle \\left[\\begin{matrix}S_{L} & S_{L} U_{LD} + S_{LD} & 0 & 0\\\\S_{L} U_{DL} + S_{DL} & S_{D} + S_{MD} U_{DM} + S_{LD} U_{DL} + S_{RD} U_{DR} + U_{LD} \\left(S_{L} U_{DL} + S_{DL}\\right) + U_{MD} \\left(S_{DM} + S_{M} U_{DM}\\right) + U_{RD} \\left(S_{R} U_{DR} + S_{DR}\\right) & S_{R} U_{DR} + S_{DR} & S_{DM} + S_{M} U_{DM}\\\\0 & S_{R} U_{RD} + S_{RD} & S_{R} & 0\\\\0 & S_{M} U_{MD} + S_{MD} & 0 & S_{M}\\end{matrix}\\right]$"
      ],
      "text/plain": [
       "Matrix([\n",
       "[              S_L,                                                                                                          S_L*U_LD + S_{LD},                 0,               0],\n",
       "[S_L*U_DL + S_{DL}, S_D + S_MD*U_DM + S_{LD}*U_DL + S_{RD}*U_DR + U_LD*(S_L*U_DL + S_{DL}) + U_MD*(S_DM + S_M*U_DM) + U_RD*(S_R*U_DR + S_{DR}), S_R*U_DR + S_{DR}, S_DM + S_M*U_DM],\n",
       "[                0,                                                                                                          S_R*U_RD + S_{RD},               S_R,               0],\n",
       "[                0,                                                                                                            S_M*U_MD + S_MD,                 0,             S_M]])"
      ]
     },
     "execution_count": 30,
     "metadata": {},
     "output_type": "execute_result"
    }
   ],
   "source": [
    "UT*S*U"
   ]
  },
  {
   "cell_type": "markdown",
   "metadata": {},
   "source": [
    "$$ U_{DL} S_L + S_{DL} = 0 $$\n",
    "$$ U_{DL} S_L = -S_{DL} $$\n",
    "\n",
    "<br>\n",
    "\n",
    "$$ U_{DL}  = -S_{DL} S_L^{-1} $$\n",
    "$$ U_{DR}  = -S_{DR} S_R^{-1} $$\n",
    "$$ U_{DM}  = -S_{DM} S_M^{-1} $$"
   ]
  },
  {
   "cell_type": "code",
   "execution_count": 31,
   "metadata": {},
   "outputs": [],
   "source": [
    "U_DL = Symbol('-S_{DL}S_L^{-1}')\n",
    "U_DR = Symbol('-S_{DR}S_R^{-1}')\n",
    "U_DR = Symbol('-S_{DR}S_R^{-1}')\n",
    "UT = Matrix([[1,0,0],[U_DL,1,U_DR],[0,0,1]])"
   ]
  },
  {
   "cell_type": "code",
   "execution_count": 32,
   "metadata": {},
   "outputs": [],
   "source": [
    "U_LD = Symbol('-S_L^{-T}S_{LD}')\n",
    "U_RD = Symbol('-S_R^{-T}S_{RD}')\n",
    "U = Matrix([[1,U_LD,0],[0,1,0],[0,U_RD,1]])"
   ]
  },
  {
   "cell_type": "code",
   "execution_count": 33,
   "metadata": {},
   "outputs": [
    {
     "ename": "ShapeError",
     "evalue": "Matrix size mismatch: (3, 3) * (4, 4).",
     "output_type": "error",
     "traceback": [
      "\u001b[0;31m---------------------------------------------------------------------------\u001b[0m",
      "\u001b[0;31mShapeError\u001b[0m                                Traceback (most recent call last)",
      "\u001b[0;32m<ipython-input-33-af7d6de71d9d>\u001b[0m in \u001b[0;36m<module>\u001b[0;34m\u001b[0m\n\u001b[0;32m----> 1\u001b[0;31m \u001b[0mUT\u001b[0m\u001b[0;34m*\u001b[0m\u001b[0mS\u001b[0m\u001b[0;34m*\u001b[0m\u001b[0mU\u001b[0m\u001b[0;34m\u001b[0m\u001b[0;34m\u001b[0m\u001b[0m\n\u001b[0m",
      "\u001b[0;32m~/anaconda3/lib/python3.7/site-packages/sympy/core/decorators.py\u001b[0m in \u001b[0;36mbinary_op_wrapper\u001b[0;34m(self, other)\u001b[0m\n\u001b[1;32m    127\u001b[0m                     \u001b[0;32mif\u001b[0m \u001b[0mf\u001b[0m \u001b[0;32mis\u001b[0m \u001b[0;32mnot\u001b[0m \u001b[0;32mNone\u001b[0m\u001b[0;34m:\u001b[0m\u001b[0;34m\u001b[0m\u001b[0;34m\u001b[0m\u001b[0m\n\u001b[1;32m    128\u001b[0m                         \u001b[0;32mreturn\u001b[0m \u001b[0mf\u001b[0m\u001b[0;34m(\u001b[0m\u001b[0mself\u001b[0m\u001b[0;34m)\u001b[0m\u001b[0;34m\u001b[0m\u001b[0;34m\u001b[0m\u001b[0m\n\u001b[0;32m--> 129\u001b[0;31m             \u001b[0;32mreturn\u001b[0m \u001b[0mfunc\u001b[0m\u001b[0;34m(\u001b[0m\u001b[0mself\u001b[0m\u001b[0;34m,\u001b[0m \u001b[0mother\u001b[0m\u001b[0;34m)\u001b[0m\u001b[0;34m\u001b[0m\u001b[0;34m\u001b[0m\u001b[0m\n\u001b[0m\u001b[1;32m    130\u001b[0m         \u001b[0;32mreturn\u001b[0m \u001b[0mbinary_op_wrapper\u001b[0m\u001b[0;34m\u001b[0m\u001b[0;34m\u001b[0m\u001b[0m\n\u001b[1;32m    131\u001b[0m     \u001b[0;32mreturn\u001b[0m \u001b[0mpriority_decorator\u001b[0m\u001b[0;34m\u001b[0m\u001b[0;34m\u001b[0m\u001b[0m\n",
      "\u001b[0;32m~/anaconda3/lib/python3.7/site-packages/sympy/matrices/common.py\u001b[0m in \u001b[0;36m__mul__\u001b[0;34m(self, other)\u001b[0m\n\u001b[1;32m   2103\u001b[0m             \u001b[0;32mif\u001b[0m \u001b[0mself\u001b[0m\u001b[0;34m.\u001b[0m\u001b[0mshape\u001b[0m\u001b[0;34m[\u001b[0m\u001b[0;36m1\u001b[0m\u001b[0;34m]\u001b[0m \u001b[0;34m!=\u001b[0m \u001b[0mother\u001b[0m\u001b[0;34m.\u001b[0m\u001b[0mshape\u001b[0m\u001b[0;34m[\u001b[0m\u001b[0;36m0\u001b[0m\u001b[0;34m]\u001b[0m\u001b[0;34m:\u001b[0m\u001b[0;34m\u001b[0m\u001b[0;34m\u001b[0m\u001b[0m\n\u001b[1;32m   2104\u001b[0m                 raise ShapeError(\"Matrix size mismatch: %s * %s.\" % (\n\u001b[0;32m-> 2105\u001b[0;31m                     self.shape, other.shape))\n\u001b[0m\u001b[1;32m   2106\u001b[0m \u001b[0;34m\u001b[0m\u001b[0m\n\u001b[1;32m   2107\u001b[0m         \u001b[0;31m# honest sympy matrices defer to their class's routine\u001b[0m\u001b[0;34m\u001b[0m\u001b[0;34m\u001b[0m\u001b[0;34m\u001b[0m\u001b[0m\n",
      "\u001b[0;31mShapeError\u001b[0m: Matrix size mismatch: (3, 3) * (4, 4)."
     ]
    }
   ],
   "source": [
    "UT*S*U"
   ]
  },
  {
   "cell_type": "code",
   "execution_count": null,
   "metadata": {},
   "outputs": [],
   "source": [
    "H_L = Symbol('H_L')\n",
    "H_LD = Symbol('H_{LD}')\n",
    "H_DL = Symbol('H_{DL}')\n",
    "H_D = Symbol('H_D')\n",
    "H_DR = Symbol('H_{DR}')\n",
    "H_RD = Symbol('H_{RD}')\n",
    "H_R = Symbol('H_R')\n",
    "H = Matrix([[H_L,H_LD,0],[H_DL,H_D,H_DR],[0,H_RD,H_R]])"
   ]
  },
  {
   "cell_type": "code",
   "execution_count": null,
   "metadata": {},
   "outputs": [],
   "source": [
    "UT*H*U"
   ]
  },
  {
   "cell_type": "code",
   "execution_count": null,
   "metadata": {},
   "outputs": [],
   "source": [
    "S_L = Symbol('S_L')\n",
    "S_LD = Symbol('S_{LD}')\n",
    "S_DL = Symbol('S_{DL}')\n",
    "S_D = Symbol('S_D')\n",
    "S_DR = Symbol('S_{DR}')\n",
    "S_RD = Symbol('S_{RD}')\n",
    "S_R = Symbol('S_R')\n",
    "S_M = Symbol('S_M')\n",
    "S_DM = Symbol('S_DM')\n",
    "S_MD = Symbol('S_MD')\n",
    "S2 = Matrix([[S_L,0,0,0],[0,S_D,0,0],[0,0,S_R,0],[0,0,0,S_M]])"
   ]
  },
  {
   "cell_type": "code",
   "execution_count": null,
   "metadata": {},
   "outputs": [],
   "source": [
    "S2"
   ]
  },
  {
   "cell_type": "markdown",
   "metadata": {},
   "source": [
    "#### The inverse of symmetric matrix is also symmetric"
   ]
  },
  {
   "cell_type": "code",
   "execution_count": null,
   "metadata": {},
   "outputs": [],
   "source": [
    "N = 8\n",
    "b = np.random.randint(-20,20,size=(N,N))\n",
    "b_symm = (b + b.T)/2\n",
    "np.allclose(np.linalg.inv(b_symm),np.linalg.inv(b_symm).T)"
   ]
  },
  {
   "cell_type": "markdown",
   "metadata": {},
   "source": [
    "# 5 $\\times$ 5"
   ]
  },
  {
   "cell_type": "code",
   "execution_count": null,
   "metadata": {},
   "outputs": [],
   "source": [
    "UT = Matrix([[1,0,0,0,0],\n",
    "             ['U_lL',1,'U_lD',0,0],\n",
    "             [0,0,1,0,0],\n",
    "             [0,0,'U_rD',1,'U_rR'],\n",
    "             [0,0,0,0,1]])"
   ]
  },
  {
   "cell_type": "code",
   "execution_count": null,
   "metadata": {},
   "outputs": [],
   "source": [
    "U = Matrix([[1,'U_Ll',0,0,0],\n",
    "            [0,1,0,0,0],\n",
    "            [0,'U_Dl',1,'U_Dr',0],\n",
    "            [0,0,0,1,0],\n",
    "            [0,0,0,'U_Rr',1]])"
   ]
  },
  {
   "cell_type": "code",
   "execution_count": null,
   "metadata": {},
   "outputs": [],
   "source": [
    "U"
   ]
  },
  {
   "cell_type": "code",
   "execution_count": null,
   "metadata": {},
   "outputs": [],
   "source": [
    "UT"
   ]
  },
  {
   "cell_type": "markdown",
   "metadata": {},
   "source": [
    "$$ U_{lL}  = -S_{lL} S_L^{-1} $$\n",
    "$$ U_{lD}  = -S_{lD} S_D^{-1} $$\n",
    "$$ U_{rD}  = -S_{rD} S_D^{-1} $$\n",
    "$$ U_{rR}  = -S_{rR} S_R^{-1} $$"
   ]
  },
  {
   "cell_type": "code",
   "execution_count": null,
   "metadata": {},
   "outputs": [],
   "source": [
    "X = Matrix([['X_L','X_l','X_D','X_r','X_R']]).T"
   ]
  },
  {
   "cell_type": "code",
   "execution_count": null,
   "metadata": {},
   "outputs": [],
   "source": [
    "UT*X"
   ]
  },
  {
   "cell_type": "code",
   "execution_count": null,
   "metadata": {},
   "outputs": [],
   "source": [
    "S = Matrix([['S_LL',  'S_Ll',     0,     0,      0],\n",
    "            ['S_lL', 'S_ll','S_lD','S_lr',      0],\n",
    "            [0      ,'S_Dl','S_DD','S_Dr',      0],\n",
    "            [0      ,'S_rl','S_rD','S_rr','S_rR'],\n",
    "            [0,           0,     0,'S_Rr','S_RR' ]])"
   ]
  },
  {
   "cell_type": "code",
   "execution_count": null,
   "metadata": {},
   "outputs": [],
   "source": [
    "S"
   ]
  },
  {
   "cell_type": "code",
   "execution_count": null,
   "metadata": {},
   "outputs": [],
   "source": [
    "UT*S*U"
   ]
  },
  {
   "cell_type": "code",
   "execution_count": null,
   "metadata": {},
   "outputs": [],
   "source": [
    "S2 = Matrix([['S_LL',     0,     0,     0,      0],\n",
    "            [0,     'P_ll',     0,'P_lr',      0],\n",
    "            [0,          0,'S_DD',     0,      0],\n",
    "            [0,     'P_rl',     0,'P_rr',      0],\n",
    "            [0,          0,     0,     0, 'S_RR' ]])"
   ]
  },
  {
   "cell_type": "code",
   "execution_count": null,
   "metadata": {},
   "outputs": [],
   "source": [
    "S2"
   ]
  },
  {
   "cell_type": "code",
   "execution_count": null,
   "metadata": {},
   "outputs": [],
   "source": [
    "U2T = Matrix([[1,0,0,0,0],\n",
    "              [0,1,0,'V_lr',0],\n",
    "              [0,0,1,0,0],\n",
    "              [0,0,0,1,0],\n",
    "              [0,0,0,0,1]])"
   ]
  },
  {
   "cell_type": "code",
   "execution_count": null,
   "metadata": {},
   "outputs": [],
   "source": [
    "U2 = Matrix([[1,0,0,0,0],\n",
    "            [0,1,0,0,0],\n",
    "            [0,0,1,0,0],\n",
    "            [0,'V_rl',0,1,0],\n",
    "            [0,0,0,0,1]])"
   ]
  },
  {
   "cell_type": "code",
   "execution_count": null,
   "metadata": {},
   "outputs": [],
   "source": [
    "U2"
   ]
  },
  {
   "cell_type": "code",
   "execution_count": null,
   "metadata": {},
   "outputs": [],
   "source": [
    "U2T*S2*U2"
   ]
  },
  {
   "cell_type": "markdown",
   "metadata": {},
   "source": [
    "$$ V_{lr}P_{rr} = -P_{lr} $$\n",
    "$$ V_{lr} = -P_{lr} P_{rr}^{-1} $$"
   ]
  },
  {
   "cell_type": "code",
   "execution_count": null,
   "metadata": {},
   "outputs": [],
   "source": [
    "U3T = Matrix([[1,0,0,0,0,0,0],\n",
    "              [0,1,0,0,0,0,0],\n",
    "              [0,0,1,0,'V_lr',0,0],\n",
    "              [0,0,0,1,0,0,0],\n",
    "              [0,0,'R_rl',0,1,0,0],\n",
    "              [0,0,0,0,0,1,0],\n",
    "              [0,0,0,0,0,0,1]])"
   ]
  },
  {
   "cell_type": "code",
   "execution_count": null,
   "metadata": {},
   "outputs": [],
   "source": [
    "U3  = Matrix([[1,0,0,0,0,0,0],\n",
    "              [0,1,0,0,0,0,0],\n",
    "              [0,0,1,0,'R_lr',0,0],\n",
    "              [0,0,0,1,0,0,0],\n",
    "              [0,0,'V_rl',0,1,0,0],\n",
    "              [0,0,0,0,0,1,0],\n",
    "              [0,0,0,0,0,0,1]])"
   ]
  },
  {
   "cell_type": "code",
   "execution_count": null,
   "metadata": {},
   "outputs": [],
   "source": [
    "H = Matrix([['H_LL','H_Ls',0     ,0     ,0     ,0     ,0     ],\n",
    "            ['H_sL','H_ss','H_sl',0     ,0     ,0     ,0     ],\n",
    "            [0     ,'H_ls','H_ll','H_lD','H_lr',0     ,0     ],\n",
    "            [0     ,0     ,'H_lD','H_DD','H_Dr',0     ,0     ],\n",
    "            [0     ,0     ,'H_rl','H_rD','H_rr','H_rd',0     ],\n",
    "            [0     ,0     ,0     ,0     ,'H_dr','H_dd','H_dR'],\n",
    "            [0     ,0     ,0     ,0     ,0     ,'H_Rd','H_RR']])            "
   ]
  },
  {
   "cell_type": "code",
   "execution_count": null,
   "metadata": {},
   "outputs": [],
   "source": [
    "U3T*H*U3"
   ]
  },
  {
   "cell_type": "markdown",
   "metadata": {},
   "source": [
    "# Matrix reduction"
   ]
  },
  {
   "cell_type": "code",
   "execution_count": 7,
   "metadata": {},
   "outputs": [],
   "source": [
    "H_MM = Matrix([['a',0,0],[0,'b',0],[0,0,'c']])\n",
    "U = Matrix([[1,0,0],[0,1,0]]).T"
   ]
  },
  {
   "cell_type": "code",
   "execution_count": 8,
   "metadata": {},
   "outputs": [
    {
     "data": {
      "text/latex": [
       "$\\displaystyle \\left[\\begin{matrix}a & 0 & 0\\\\0 & b & 0\\\\0 & 0 & c\\end{matrix}\\right]$"
      ],
      "text/plain": [
       "Matrix([\n",
       "[a, 0, 0],\n",
       "[0, b, 0],\n",
       "[0, 0, c]])"
      ]
     },
     "execution_count": 8,
     "metadata": {},
     "output_type": "execute_result"
    }
   ],
   "source": [
    "H_MM"
   ]
  },
  {
   "cell_type": "code",
   "execution_count": 9,
   "metadata": {},
   "outputs": [
    {
     "data": {
      "text/latex": [
       "$\\displaystyle \\left[\\begin{matrix}1 & 0\\\\0 & 1\\\\0 & 0\\end{matrix}\\right]$"
      ],
      "text/plain": [
       "Matrix([\n",
       "[1, 0],\n",
       "[0, 1],\n",
       "[0, 0]])"
      ]
     },
     "execution_count": 9,
     "metadata": {},
     "output_type": "execute_result"
    }
   ],
   "source": [
    "U"
   ]
  },
  {
   "cell_type": "code",
   "execution_count": 10,
   "metadata": {},
   "outputs": [
    {
     "data": {
      "text/latex": [
       "$\\displaystyle \\left[\\begin{matrix}a & 0\\\\0 & b\\end{matrix}\\right]$"
      ],
      "text/plain": [
       "Matrix([\n",
       "[a, 0],\n",
       "[0, b]])"
      ]
     },
     "execution_count": 10,
     "metadata": {},
     "output_type": "execute_result"
    }
   ],
   "source": [
    "U.T*H_MM*U"
   ]
  },
  {
   "cell_type": "code",
   "execution_count": 11,
   "metadata": {},
   "outputs": [],
   "source": [
    "H_IM = Matrix([['a_0','a_1'],['b_0','b_1'],['c_0','c_1']]).T"
   ]
  },
  {
   "cell_type": "code",
   "execution_count": 12,
   "metadata": {},
   "outputs": [
    {
     "data": {
      "text/latex": [
       "$\\displaystyle \\left[\\begin{matrix}a_{0} & b_{0} & c_{0}\\\\a_{1} & b_{1} & c_{1}\\end{matrix}\\right]$"
      ],
      "text/plain": [
       "Matrix([\n",
       "[a_0, b_0, c_0],\n",
       "[a_1, b_1, c_1]])"
      ]
     },
     "execution_count": 12,
     "metadata": {},
     "output_type": "execute_result"
    }
   ],
   "source": [
    "H_IM"
   ]
  },
  {
   "cell_type": "code",
   "execution_count": 13,
   "metadata": {},
   "outputs": [
    {
     "data": {
      "text/latex": [
       "$\\displaystyle \\left[\\begin{matrix}1 & 0\\\\0 & 1\\\\0 & 0\\end{matrix}\\right]$"
      ],
      "text/plain": [
       "Matrix([\n",
       "[1, 0],\n",
       "[0, 1],\n",
       "[0, 0]])"
      ]
     },
     "execution_count": 13,
     "metadata": {},
     "output_type": "execute_result"
    }
   ],
   "source": [
    "U"
   ]
  },
  {
   "cell_type": "code",
   "execution_count": 14,
   "metadata": {},
   "outputs": [
    {
     "data": {
      "text/latex": [
       "$\\displaystyle \\left[\\begin{matrix}a_{0} & b_{0}\\\\a_{1} & b_{1}\\end{matrix}\\right]$"
      ],
      "text/plain": [
       "Matrix([\n",
       "[a_0, b_0],\n",
       "[a_1, b_1]])"
      ]
     },
     "execution_count": 14,
     "metadata": {},
     "output_type": "execute_result"
    }
   ],
   "source": [
    "H_IM*U"
   ]
  },
  {
   "cell_type": "markdown",
   "metadata": {},
   "source": [
    "# h_ij rotation"
   ]
  },
  {
   "cell_type": "code",
   "execution_count": 2,
   "metadata": {},
   "outputs": [],
   "source": [
    "H1 = Matrix([['h_ii','h_ij'],['h_ji','h_ii']])\n",
    "U = Matrix([['v',0],[0,'u']])\n",
    "UT = Matrix([['v_T',0],[0,'u_T']])"
   ]
  },
  {
   "cell_type": "code",
   "execution_count": 3,
   "metadata": {},
   "outputs": [
    {
     "data": {
      "text/latex": [
       "$\\displaystyle \\left[\\begin{matrix}v_{T} & 0\\\\0 & u_{T}\\end{matrix}\\right]$"
      ],
      "text/plain": [
       "Matrix([\n",
       "[v_T,   0],\n",
       "[  0, u_T]])"
      ]
     },
     "execution_count": 3,
     "metadata": {},
     "output_type": "execute_result"
    }
   ],
   "source": [
    "UT"
   ]
  },
  {
   "cell_type": "code",
   "execution_count": 4,
   "metadata": {},
   "outputs": [
    {
     "data": {
      "text/latex": [
       "$\\displaystyle \\left[\\begin{matrix}h_{ii} & h_{ij}\\\\h_{ji} & h_{ii}\\end{matrix}\\right]$"
      ],
      "text/plain": [
       "Matrix([\n",
       "[h_ii, h_ij],\n",
       "[h_ji, h_ii]])"
      ]
     },
     "execution_count": 4,
     "metadata": {},
     "output_type": "execute_result"
    }
   ],
   "source": [
    "H1"
   ]
  },
  {
   "cell_type": "code",
   "execution_count": 5,
   "metadata": {},
   "outputs": [
    {
     "data": {
      "text/latex": [
       "$\\displaystyle \\left[\\begin{matrix}v & 0\\\\0 & u\\end{matrix}\\right]$"
      ],
      "text/plain": [
       "Matrix([\n",
       "[v, 0],\n",
       "[0, u]])"
      ]
     },
     "execution_count": 5,
     "metadata": {},
     "output_type": "execute_result"
    }
   ],
   "source": [
    "U"
   ]
  },
  {
   "cell_type": "code",
   "execution_count": 6,
   "metadata": {},
   "outputs": [
    {
     "data": {
      "text/latex": [
       "$\\displaystyle \\left[\\begin{matrix}h_{ii} v v_{T} & h_{ij} u v_{T}\\\\h_{ji} u_{T} v & h_{ii} u u_{T}\\end{matrix}\\right]$"
      ],
      "text/plain": [
       "Matrix([\n",
       "[h_ii*v*v_T, h_ij*u*v_T],\n",
       "[h_ji*u_T*v, h_ii*u*u_T]])"
      ]
     },
     "execution_count": 6,
     "metadata": {},
     "output_type": "execute_result"
    }
   ],
   "source": [
    "UT*H1*U"
   ]
  },
  {
   "cell_type": "code",
   "execution_count": null,
   "metadata": {},
   "outputs": [],
   "source": [
    "H1[-2:,-2:]"
   ]
  },
  {
   "cell_type": "code",
   "execution_count": null,
   "metadata": {},
   "outputs": [],
   "source": [
    "H1"
   ]
  },
  {
   "cell_type": "code",
   "execution_count": null,
   "metadata": {},
   "outputs": [],
   "source": [
    "mat = np.arange(8).reshape(2,4)"
   ]
  },
  {
   "cell_type": "code",
   "execution_count": null,
   "metadata": {},
   "outputs": [],
   "source": [
    "mat[-2:,-2:] = np.arange(4).reshape(2,2)"
   ]
  },
  {
   "cell_type": "code",
   "execution_count": null,
   "metadata": {},
   "outputs": [],
   "source": [
    "mat"
   ]
  },
  {
   "cell_type": "markdown",
   "metadata": {},
   "source": [
    "## Projector"
   ]
  },
  {
   "cell_type": "code",
   "execution_count": 231,
   "metadata": {},
   "outputs": [],
   "source": [
    "m1 = Matrix([['h','t'],['t','h']])\n",
    "m2 = Matrix([['s','u'],['u','s']])"
   ]
  },
  {
   "cell_type": "code",
   "execution_count": 232,
   "metadata": {},
   "outputs": [],
   "source": [
    "P1, D1 = m1.diagonalize()\n",
    "P2, D2 = m2.diagonalize()"
   ]
  },
  {
   "cell_type": "code",
   "execution_count": 233,
   "metadata": {},
   "outputs": [],
   "source": [
    "c10 = Matrix([*P1.col(0),0,0])\n",
    "c11 = Matrix([*P1.col(1),0,0])\n",
    "\n",
    "c20 = Matrix([0,0,*P2.col(0)])\n",
    "c21 = Matrix([0,0,*P2.col(1)])"
   ]
  },
  {
   "cell_type": "code",
   "execution_count": 234,
   "metadata": {},
   "outputs": [],
   "source": [
    "p10 = Matrix(KroneckerProduct(c10.T,c10))\n",
    "p11 = Matrix(KroneckerProduct(c11.T,c11))\n",
    "\n",
    "p20 = Matrix(KroneckerProduct(c20.T,c20))\n",
    "p21 = Matrix(KroneckerProduct(c21.T,c21))"
   ]
  },
  {
   "cell_type": "code",
   "execution_count": 235,
   "metadata": {},
   "outputs": [],
   "source": [
    "M = Matrix(BlockDiagMatrix(m1,m2))"
   ]
  },
  {
   "cell_type": "code",
   "execution_count": 220,
   "metadata": {},
   "outputs": [
    {
     "data": {
      "text/latex": [
       "$\\displaystyle \\left( \\left[\\begin{matrix}1 & -1 & 0 & 0\\\\-1 & 1 & 0 & 0\\\\0 & 0 & 0 & 0\\\\0 & 0 & 0 & 0\\end{matrix}\\right], \\  \\left[\\begin{matrix}-1 & 1\\\\1 & 1\\end{matrix}\\right]\\right)$"
      ],
      "text/plain": [
       "⎛⎡1   -1  0  0⎤         ⎞\n",
       "⎜⎢            ⎥         ⎟\n",
       "⎜⎢-1  1   0  0⎥  ⎡-1  1⎤⎟\n",
       "⎜⎢            ⎥, ⎢     ⎥⎟\n",
       "⎜⎢0   0   0  0⎥  ⎣1   1⎦⎟\n",
       "⎜⎢            ⎥         ⎟\n",
       "⎝⎣0   0   0  0⎦         ⎠"
      ]
     },
     "execution_count": 220,
     "metadata": {},
     "output_type": "execute_result"
    }
   ],
   "source": [
    "p10, P1"
   ]
  },
  {
   "cell_type": "code",
   "execution_count": 289,
   "metadata": {},
   "outputs": [
    {
     "data": {
      "text/latex": [
       "$\\displaystyle \\left[\\begin{matrix}2 h & 2 t & 0 & 0\\\\2 t & 2 h & 0 & 0\\\\0 & 0 & 0 & 0\\\\0 & 0 & 0 & 0\\end{matrix}\\right]$"
      ],
      "text/plain": [
       "⎡2⋅h  2⋅t  0  0⎤\n",
       "⎢              ⎥\n",
       "⎢2⋅t  2⋅h  0  0⎥\n",
       "⎢              ⎥\n",
       "⎢ 0    0   0  0⎥\n",
       "⎢              ⎥\n",
       "⎣ 0    0   0  0⎦"
      ]
     },
     "execution_count": 289,
     "metadata": {},
     "output_type": "execute_result"
    }
   ],
   "source": [
    "D1[0,0]*p10 + D1[1,1]*p11 #+ D2[0,0]*p20 + D2[1,1]*p21 "
   ]
  },
  {
   "cell_type": "code",
   "execution_count": 323,
   "metadata": {},
   "outputs": [],
   "source": [
    "M = Matrix(BlockDiagMatrix(m1,m2,m2))"
   ]
  },
  {
   "cell_type": "code",
   "execution_count": 324,
   "metadata": {},
   "outputs": [],
   "source": [
    "c0 = Matrix([*P1.col(0)])\n",
    "c1 = Matrix([*P1.col(1)])\n",
    "\n",
    "p0 = Matrix(KroneckerProduct(c0.T,c0))\n",
    "p1 = Matrix(KroneckerProduct(c1.T,c1))"
   ]
  },
  {
   "cell_type": "code",
   "execution_count": 327,
   "metadata": {},
   "outputs": [],
   "source": [
    "I1 = Matrix([[1,0],[0,0],[0,0]])\n",
    "I2 = Matrix([[0,0],[0,0],[0,1]])\n",
    "U1 = Matrix(KroneckerProduct(I1,P1)) + Matrix(KroneckerProduct(I2,P2))"
   ]
  },
  {
   "cell_type": "code",
   "execution_count": 328,
   "metadata": {},
   "outputs": [
    {
     "data": {
      "text/latex": [
       "$\\displaystyle \\left[\\begin{matrix}2 h - 2 t & 0 & 0 & 0\\\\0 & 2 h + 2 t & 0 & 0\\\\0 & 0 & 2 s - 2 u & 0\\\\0 & 0 & 0 & 2 s + 2 u\\end{matrix}\\right]$"
      ],
      "text/plain": [
       "⎡2⋅h - 2⋅t      0          0          0    ⎤\n",
       "⎢                                          ⎥\n",
       "⎢    0      2⋅h + 2⋅t      0          0    ⎥\n",
       "⎢                                          ⎥\n",
       "⎢    0          0      2⋅s - 2⋅u      0    ⎥\n",
       "⎢                                          ⎥\n",
       "⎣    0          0          0      2⋅s + 2⋅u⎦"
      ]
     },
     "execution_count": 328,
     "metadata": {},
     "output_type": "execute_result"
    }
   ],
   "source": [
    "U1.T*M*U1"
   ]
  },
  {
   "cell_type": "code",
   "execution_count": null,
   "metadata": {},
   "outputs": [],
   "source": []
  }
 ],
 "metadata": {
  "kernelspec": {
   "display_name": "Python 3",
   "language": "python",
   "name": "python3"
  },
  "language_info": {
   "codemirror_mode": {
    "name": "ipython",
    "version": 3
   },
   "file_extension": ".py",
   "mimetype": "text/x-python",
   "name": "python",
   "nbconvert_exporter": "python",
   "pygments_lexer": "ipython3",
   "version": "3.7.4"
  }
 },
 "nbformat": 4,
 "nbformat_minor": 2
}
