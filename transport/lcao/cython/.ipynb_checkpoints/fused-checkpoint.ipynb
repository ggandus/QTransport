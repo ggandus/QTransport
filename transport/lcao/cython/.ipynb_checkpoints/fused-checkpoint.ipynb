{
 "cells": [
  {
   "cell_type": "code",
   "execution_count": 4,
   "metadata": {},
   "outputs": [],
   "source": [
    "%load_ext cython"
   ]
  },
  {
   "cell_type": "code",
   "execution_count": 7,
   "metadata": {},
   "outputs": [
    {
     "name": "stdout",
     "output_type": "stream",
     "text": [
      "0.0\n",
      "0j\n"
     ]
    }
   ],
   "source": [
    "%%cython\n",
    "\n",
    "ctypedef fused my_type:\n",
    "    double\n",
    "    complex\n",
    "\n",
    "cdef inline void f(my_type a) nogil:\n",
    "    cdef complex z\n",
    "    z = a + 1.j\n",
    "    printf(z)\n",
    "    \n",
    "print(f(1.))\n",
    "print(f(1.+1.j))\n"
   ]
  },
  {
   "cell_type": "code",
   "execution_count": null,
   "metadata": {},
   "outputs": [],
   "source": []
  }
 ],
 "metadata": {
  "kernelspec": {
   "display_name": "Python 3",
   "language": "python",
   "name": "python3"
  },
  "language_info": {
   "codemirror_mode": {
    "name": "ipython",
    "version": 3
   },
   "file_extension": ".py",
   "mimetype": "text/x-python",
   "name": "python",
   "nbconvert_exporter": "python",
   "pygments_lexer": "ipython3",
   "version": "3.7.6"
  }
 },
 "nbformat": 4,
 "nbformat_minor": 4
}
