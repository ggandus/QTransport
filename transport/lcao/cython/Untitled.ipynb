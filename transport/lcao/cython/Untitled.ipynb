{
 "cells": [
  {
   "cell_type": "code",
   "execution_count": 9,
   "metadata": {},
   "outputs": [],
   "source": [
    "%load_ext cython"
   ]
  },
  {
   "cell_type": "code",
   "execution_count": null,
   "metadata": {},
   "outputs": [],
   "source": [
    "%%cython\n",
    "\n",
    "# cython: infer_types=True\n",
    "# cython: language_level=3\n",
    "# cython: boundscheck=False\n",
    "# cython: wraparound=False\n",
    "\n",
    "import numpy as np\n",
    "from scipy import linalg as la\n",
    "from cython.parallel import prange, parallel\n",
    "from scipy.linalg.cython_lapack cimport zgetrf, zgetrs, zgetri, zlange, zlacpy\n",
    "from scipy.linalg.cython_blas cimport zgemm, zaxpy\n",
    "\n",
    "from libc.stdlib cimport abort, malloc, free, rand\n",
    "\n",
    "cdef double conv = 1e-8\n",
    "\n",
    "\n",
    "cdef inline complex conj(complex a) nogil:\n",
    "    return a.real - a.imag*1j\n",
    "\n",
    "\n",
    "cdef inline void init_vecs(complex[:,:] h_ii, complex[:,:] s_ii,\n",
    "                           complex[:,:] h_ij, complex[:,:] s_ij,\n",
    "                           complex* v_00, complex* v_01,\n",
    "                           complex* v_10, complex* v_11,\n",
    "                           double energy, double eta=1e-5, double bias=0.) nogil:\n",
    "\n",
    "    cdef int m = h_ii.shape[0], i, j\n",
    "    cdef complex z\n",
    "    z = energy - bias + eta * 1.j\n",
    "\n",
    "    for j in range(m):#, schedule='static'):\n",
    "        for i in range(m):\n",
    "            v_00[j*m+i] = z * conj(s_ii[i,j]) - conj(h_ii[i,j])\n",
    "            v_11[j*m+i] = v_00[j*m+i]\n",
    "            v_01[j*m+i] = z * conj(s_ij[i,j]) - conj(h_ij[i,j])\n",
    "\n",
    "    for j in range(m):#, schedule='static'):\n",
    "        for i in range(m):\n",
    "            v_10[j*m+i] = z * s_ij[j,i] - h_ij[j,i]\n",
    "            \n",
    "            \n",
    "def py_init_vecs(h_ii, s_ii, h_ij, s_ij,\n",
    "            py_v_00, py_v_01, py_v_10, py_v_11,\n",
    "            energy, eta=1e-5, bias=0.):\n",
    "\n",
    "    z = energy - bias + eta * 1.j\n",
    "\n",
    "    py_v_00[:] = z * s_ii.T.conj() - h_ii.T.conj()\n",
    "    py_v_11[:] = py_v_00.copy()\n",
    "    py_v_10[:] = z * s_ij - h_ij\n",
    "    py_v_01[:] = z * s_ij.T.conj() - h_ij.T.conj()\n",
    "\n",
    "\n",
    "def test_init_vecs():\n",
    "\n",
    "    m = 3\n",
    "    nkpts = 2\n",
    "    a = np.random.random((nkpts,m,m)).astype(complex)\n",
    "\n",
    "    cdef complex *v_00\n",
    "    cdef complex *v_01\n",
    "    cdef complex *v_10\n",
    "    cdef complex *v_11\n",
    "\n",
    "    cdef int sz = m*m*sizeof(double)\n",
    "    v_00 = <complex*>malloc(sz)\n",
    "    v_01 = <complex*>malloc(sz)\n",
    "    v_10 = <complex*>malloc(sz)\n",
    "    v_11 = <complex*>malloc(sz)\n",
    "    cdef complex[:] v_00_view = <complex[:m*m]> v_00\n",
    "    cdef complex[:] v_01_view = <complex[:m*m]> v_01\n",
    "    cdef complex[:] v_10_view = <complex[:m*m]> v_10\n",
    "    cdef complex[:] v_11_view = <complex[:m*m]> v_11\n",
    "\n",
    "    py_v_00 = np.zeros((m,m), complex)\n",
    "    py_v_10 = np.zeros((m,m), complex)\n",
    "    py_v_01 = np.zeros((m,m), complex)\n",
    "    py_v_11 = np.zeros((m,m), complex)\n",
    "\n",
    "    args_common = a[0]*4\n",
    "    args_py = py_v_00, py_v_01, py_v_10, py_v_11\n",
    "    args_pyx = v_00, v_01, v_10, v_11\n",
    "\n",
    "    py_init_vecs(a[0],a[0],a[0],a[0],py_v_00, py_v_01, py_v_10, py_v_11,0.)\n",
    "    init_vecs(a[0],a[0],a[0],a[0],v_00,v_01,v_10,v_11,0.)      \n",
    "    \n",
    "    \n",
    "    assert np.allclose(np.asarray(v_00_view).reshape(m,m), py_v_00)\n",
    "    assert False\n",
    "    free(v_00)\n",
    "    free(v_01)\n",
    "    free(v_10)\n",
    "    free(v_11)\n",
    "    \n",
    "test_init_vecs()"
   ]
  },
  {
   "cell_type": "code",
   "execution_count": 1,
   "metadata": {},
   "outputs": [],
   "source": [
    "%load_ext cython"
   ]
  },
  {
   "cell_type": "code",
   "execution_count": 46,
   "metadata": {},
   "outputs": [],
   "source": [
    "%%cython\n",
    "\n",
    "import numpy as np\n",
    "\n",
    "cdef inline void transpose(complex* a, complex* b, int m) nogil:\n",
    "    cdef int i, j\n",
    "    for i in range(m):\n",
    "        for j in range(m):\n",
    "            a[i*m+j] = b[j*m+i]\n",
    "            \n",
    "a = np.arange(9).reshape((3,3)).astype(complex)\n",
    "b = np.zeros((2,3,3), complex)\n",
    "c = np.zeros_like(a)\n",
    "\n",
    "# a = np.asfortranarray(a)\n",
    "\n",
    "cdef complex[:,:] _a = a\n",
    "cdef complex[:,:] _b \n",
    "_b = b[0]\n",
    "\n",
    "transpose(&_b[0,0],&_a[0,0],a.shape[0])\n",
    "\n",
    "c = b[0]"
   ]
  },
  {
   "cell_type": "code",
   "execution_count": 47,
   "metadata": {},
   "outputs": [
    {
     "data": {
      "text/plain": [
       "array([[0.+0.j, 3.+0.j, 6.+0.j],\n",
       "       [1.+0.j, 4.+0.j, 7.+0.j],\n",
       "       [2.+0.j, 5.+0.j, 8.+0.j]])"
      ]
     },
     "execution_count": 47,
     "metadata": {},
     "output_type": "execute_result"
    }
   ],
   "source": [
    "c"
   ]
  },
  {
   "cell_type": "code",
   "execution_count": 41,
   "metadata": {},
   "outputs": [
    {
     "name": "stderr",
     "output_type": "stream",
     "text": [
      "\n",
      "Error compiling Cython file:\n",
      "------------------------------------------------------------\n",
      "...\n",
      "\n",
      "import numpy as np\n",
      "cimport numpy as np\n",
      "\n",
      "cdef int m = 3\n",
      "cdef np.ndarray[complex, ndim=1] a\n",
      "                                ^\n",
      "------------------------------------------------------------\n",
      "\n",
      "/home/gag/.cache/ipython/cython/_cython_magic_25ef3ffe131a6ddd568873c0d3601ffc.pyx:6:33: Buffer types only allowed as function local variables\n",
      "\n",
      "Error compiling Cython file:\n",
      "------------------------------------------------------------\n",
      "...\n",
      "\n",
      "import numpy as np\n",
      "^\n",
      "------------------------------------------------------------\n",
      "\n",
      "/home/gag/.cache/ipython/cython/_cython_magic_25ef3ffe131a6ddd568873c0d3601ffc.pyx:2:0: Buffer vars not allowed in module scope\n"
     ]
    }
   ],
   "source": [
    "%%cython\n",
    "\n",
    "import numpy as np\n",
    "cimport numpy as np\n",
    "\n",
    "cdef int m = 3\n",
    "cdef inline f(np.ndarray[complex, ndim=1] a):\n",
    "    cdef int i, j\n",
    "    for i in range(m):\n",
    "        for j in range(m):\n",
    "            a[i*m+j] = b[j*m+i]\n",
    "\n",
    "cdef complex *_a \n",
    "_a = <complex*> a.data\n",
    "cdef int i, j\n",
    "\n",
    "for i in range(m):\n",
    "    for j in range(m):\n",
    "        _a[i*m+j] *= 2.+1.j    \n",
    "\n",
    "print(a)"
   ]
  },
  {
   "cell_type": "code",
   "execution_count": 33,
   "metadata": {},
   "outputs": [
    {
     "data": {
      "text/plain": [
       "(3, 3)"
      ]
     },
     "execution_count": 33,
     "metadata": {},
     "output_type": "execute_result"
    }
   ],
   "source": [
    "a.shape"
   ]
  },
  {
   "cell_type": "code",
   "execution_count": 34,
   "metadata": {},
   "outputs": [
    {
     "data": {
      "text/plain": [
       "array([[0.+0.j, 1.+0.j, 2.+0.j],\n",
       "       [3.+0.j, 4.+0.j, 5.+0.j],\n",
       "       [6.+0.j, 7.+0.j, 8.+0.j]])"
      ]
     },
     "execution_count": 34,
     "metadata": {},
     "output_type": "execute_result"
    }
   ],
   "source": [
    "a"
   ]
  },
  {
   "cell_type": "code",
   "execution_count": 7,
   "metadata": {},
   "outputs": [
    {
     "data": {
      "text/plain": [
       "array([[[0.+0.j, 1.+0.j, 2.+0.j],\n",
       "        [3.+0.j, 4.+0.j, 5.+0.j],\n",
       "        [6.+0.j, 7.+0.j, 8.+0.j]],\n",
       "\n",
       "       [[0.+0.j, 0.+0.j, 0.+0.j],\n",
       "        [0.+0.j, 0.+0.j, 0.+0.j],\n",
       "        [0.+0.j, 0.+0.j, 0.+0.j]]])"
      ]
     },
     "execution_count": 7,
     "metadata": {},
     "output_type": "execute_result"
    }
   ],
   "source": [
    "b"
   ]
  },
  {
   "cell_type": "code",
   "execution_count": null,
   "metadata": {},
   "outputs": [],
   "source": []
  }
 ],
 "metadata": {
  "kernelspec": {
   "display_name": "Python 3",
   "language": "python",
   "name": "python3"
  },
  "language_info": {
   "codemirror_mode": {
    "name": "ipython",
    "version": 3
   },
   "file_extension": ".py",
   "mimetype": "text/x-python",
   "name": "python",
   "nbconvert_exporter": "python",
   "pygments_lexer": "ipython3",
   "version": "3.7.6"
  }
 },
 "nbformat": 4,
 "nbformat_minor": 4
}
